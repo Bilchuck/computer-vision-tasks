{
 "cells": [
  {
   "cell_type": "code",
   "execution_count": 1,
   "metadata": {},
   "outputs": [],
   "source": [
    "import numpy as np\n",
    "import matplotlib.pyplot as plt\n",
    "import cv2\n",
    "from tqdm import tqdm_notebook\n",
    "import os, os.path"
   ]
  },
  {
   "cell_type": "code",
   "execution_count": 3,
   "metadata": {},
   "outputs": [],
   "source": [
    "datasets = ['Biker', 'football']\n",
    "# points with template roi. I get them from dataset file\n",
    "roi_s = {\n",
    "    'football': ((300,100),(60,60)),\n",
    "    'Biker': ((262, 94), (16, 26)),\n",
    "}"
   ]
  },
  {
   "cell_type": "code",
   "execution_count": 5,
   "metadata": {},
   "outputs": [],
   "source": [
    "# params for ShiTomasi corner detection\n",
    "feature_params = dict( maxCorners = 100,\n",
    "                       qualityLevel = 0.3,\n",
    "                       minDistance = 1,\n",
    "                       blockSize = 7 )\n",
    "# Parameters for lucas kanade optical flow\n",
    "lk_params = dict( winSize  = (20,20),\n",
    "                  maxLevel = 2,\n",
    "                  criteria = (cv2.TERM_CRITERIA_EPS | cv2.TERM_CRITERIA_COUNT, 10, 0.03))"
   ]
  },
  {
   "cell_type": "code",
   "execution_count": 4,
   "metadata": {},
   "outputs": [
    {
     "name": "stdout",
     "output_type": "stream",
     "text": [
      "Dataset Biker loaded!\n"
     ]
    },
    {
     "data": {
      "image/png": "[encoded data removed]",
      "text/plain": [
       "<Figure size 432x288 with 1 Axes>"
      ]
     },
     "metadata": {},
     "output_type": "display_data"
    },
    {
     "name": "stdout",
     "output_type": "stream",
     "text": [
      "Dataset football loaded!\n"
     ]
    },
    {
     "data": {
      "image/png": "[encoded data removed]",
      "text/plain": [
       "<Figure size 432x288 with 1 Axes>"
      ]
     },
     "metadata": {},
     "output_type": "display_data"
    }
   ],
   "source": [
    "for dataset in datasets:\n",
    "    img_l = len([name for name in os.listdir(f'./datasets/{dataset}/img')])\n",
    "    images = [cv2.imread(f\"./datasets/{dataset}/img/{str(i).zfill(4)}.jpg\", 0) for i in range(1,img_l+1)]\n",
    "    print(f\"Dataset {dataset} loaded!\")\n",
    "    \n",
    "    () = roi_s[dataset]\n",
    "    # get template image for dataset\n",
    "    template = images[0][roi[0][1]:roi[0][1]+roi[1][1], roi[0][0]:roi[0][0] + roi[1][0]]\n",
    "    t_h, t_w = template.shape\n",
    "    \n",
    "    plt.title(f\"Template for dataset {dataset}\")\n",
    "    plt.imshow(template, cmap='gray')\n",
    "    plt.show()\n",
    "    \n",
    "    prev, *images = images\n",
    "    mask = \n",
    "    prev_points = cv2.goodFeaturesToTrack(prev, mask = template, **feature_params)\n",
    "    \n",
    "    for img in images:\n",
    "        p1, st, err = cv2.calcOpticalFlowPyrLK(prev, img, p0, None, **lk_params)\n",
    "    \n",
    "        good_new = p1[st==1]\n",
    "        good_old = p0[st==1]\n",
    "        if len(good_new) == 0:\n",
    "            print(\"Flow was lost, trying to recover\")\n",
    "            mask_roi = np.zeros_like(old_gray)\n",
    "            mask_roi[y_old:y_old+h, x_old:x_old+w] = 1\n",
    "            p0 = cv2.goodFeaturesToTrack(frame_gray, mask = mask_roi, **feature_params)\n",
    "            if p0 is None:\n",
    "                print(\"Sorry, optical flow was lost. Recovery was unsuccessful, terminating.\")\n",
    "                break\n",
    "\n",
    "            p1, st, err = cv2.calcOpticalFlowPyrLK(old_gray, frame_gray, p0, None, **lk_params)\n",
    "\n",
    "            if len(p0[st==1]) == 0:\n",
    "                print(\"Sorry, optical flow was lost. Recovery was unsuccessful, terminating.\")\n",
    "                break\n",
    "\n",
    "        deltas = np.mean(good_new-good_old, axis=0)\n",
    "        if i % 2 == 0:\n",
    "            deltas = np.floor(deltas)\n",
    "        else:\n",
    "            deltas = np.ceil(deltas)\n",
    "\n",
    "        dx = int(deltas[0])\n",
    "        dy = int(deltas[1])\n",
    "\n",
    "\n",
    "        '''\n",
    "        for i,(new,old) in enumerate(zip(good_new,good_old)):\n",
    "            a,b = new.ravel()\n",
    "            c,d = old.ravel()\n",
    "            mask = cv2.line(mask, (a,b),(c,d), color[i].tolist(), 2)\n",
    "            frame = cv2.circle(frame,(a,b),5,color[i].tolist(),-1)\n",
    "        img2 = cv2.add(frame,mask)\n",
    "        cv2.imshow('frame',img2)\n",
    "        '''\n",
    "\n",
    "\n",
    "\n",
    "\n",
    "        x_new = x_old + dx\n",
    "        y_new = y_old + dy\n",
    "\n",
    "        if x_new > im_w or x_new < - w or y_new > im_h or y_new < -h:\n",
    "            print(\"Sorry, optical flow was lost or tracking object left camera vision space.\")\n",
    "            break\n",
    "\n",
    "        img2 = cv2.rectangle(frame, (x_new, y_new), (x_new + w, y_new + h), (255, 0,0), 2)\n",
    "        cv2.imshow('frame',img2)\n",
    "\n",
    "\n",
    "        k = cv2.waitKey(0) & 0xff\n",
    "        if k == 27:\n",
    "            break\n",
    "\n",
    "        # Now update the previous frame and previous points\n",
    "\n",
    "\n",
    "        old_gray = frame_gray.copy()\n",
    "        x_old, y_old = x_new, y_new\n",
    "        p0 = good_new.reshape(-1,1,2)"
   ]
  },
  {
   "cell_type": "code",
   "execution_count": 6,
   "metadata": {},
   "outputs": [],
   "source": [
    "a = [1,2,3]"
   ]
  },
  {
   "cell_type": "code",
   "execution_count": 10,
   "metadata": {},
   "outputs": [
    {
     "name": "stdout",
     "output_type": "stream",
     "text": [
      "2\n",
      "[3]\n"
     ]
    }
   ],
   "source": [
    "f, *a = a\n",
    "\n",
    "print(f)\n",
    "print(a)"
   ]
  },
  {
   "cell_type": "code",
   "execution_count": null,
   "metadata": {},
   "outputs": [],
   "source": []
  }
 ],
 "metadata": {
  "kernelspec": {
   "display_name": "Python 3",
   "language": "python",
   "name": "python3"
  },
  "language_info": {
   "codemirror_mode": {
    "name": "ipython",
    "version": 3
   },
   "file_extension": ".py",
   "mimetype": "text/x-python",
   "name": "python",
   "nbconvert_exporter": "python",
   "pygments_lexer": "ipython3",
   "version": "3.6.8"
  }
 },
 "nbformat": 4,
 "nbformat_minor": 2
}
