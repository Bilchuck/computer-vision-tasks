{
 "cells": [
  {
   "cell_type": "code",
   "execution_count": 1,
   "metadata": {},
   "outputs": [],
   "source": [
    "import numpy as np\n",
    "import matplotlib.pyplot as plt\n",
    "import cv2"
   ]
  },
  {
   "cell_type": "markdown",
   "metadata": {},
   "source": [
    "## 2. Implement template-matching in Python using SSD, NCC, SAD"
   ]
  },
  {
   "cell_type": "code",
   "execution_count": 2,
   "metadata": {},
   "outputs": [],
   "source": [
    "# template mtching methods:\n",
    "ssd = lambda img1, img2: np.sum( (img1 - img2) ** 2)\n",
    "ncc = lambda img1, img2: np.sum( normalize(img1)  * normalize(img2) )\n",
    "def sad(img1, img2):\n",
    "    return np.sum( np.abs(img1 - img2) )\n",
    "\n",
    "def normalize(img):\n",
    "    img = img - np.mean(img)\n",
    "    return img / np.linalg.norm(img)\n",
    "\n",
    "# Apply matching method to image. It works like conv2d method, but it is not only matrix multiplication \n",
    "def matchTemplateToImg(img, template, matcher):\n",
    "    t_h,t_w = template.shape\n",
    "    img_h, img_w = img.shape\n",
    "    match_results = np.zeros((img_h-t_h+1, img_w-t_w+1))\n",
    "\n",
    "    for y in range(match_results.shape[0]):\n",
    "        for x in range(match_results.shape[1]):\n",
    "            window = img[y:y+t_h, x:x+t_w]\n",
    "            if (window.shape != template.shape):\n",
    "                continue\n",
    "\n",
    "            match_results[y,x] = matcher(window, template)\n",
    "    \n",
    "    return match_results\n",
    "\n",
    "# Apply matching method to image. But with knowing the previous point where template was matched.\n",
    "# We search for template from prev point (x,y) with soem redius. It allows algorithm to work faster\n",
    "# and do not overlap with other object that are similar to template.\n",
    "def matchTemplateToImgZone(img, template, matcher, prev_point=False, radius=0, fill=0):\n",
    "    t_h,t_w = template.shape\n",
    "    img_h, img_w = img.shape\n",
    "    match_results = np.zeros((img_h-t_h+1, img_w-t_w+1)) + fill\n",
    "    \n",
    "    if prev_point[0] < radius:\n",
    "        prev_point = (radius+1, prev_point[1])\n",
    "    if prev_point[0] + radius + t_h > img_h:\n",
    "        prev_point = (img_h - radius - t_h - 1 , prev_point[1])\n",
    "    if prev_point[1] < radius:\n",
    "        prev_point = (prev_point[0], radius+1)\n",
    "    if prev_point[1] + radius + t_h > img_h:\n",
    "        prev_point = (prev_point[0], img_h - radius - t_h - 1)\n",
    "\n",
    "    match_zone = np.zeros((radius*2,radius*2))\n",
    "\n",
    "    for y in range(radius*2):\n",
    "        for x in range(radius*2):\n",
    "            start_y = prev_point[0] + y - radius\n",
    "            start_x = prev_point[1] + x - radius\n",
    "            window = img[\n",
    "                start_y : start_y + t_h,\n",
    "                start_x : start_x + t_w,\n",
    "            ]\n",
    "            if (window.shape != template.shape):\n",
    "                match_zone[y,x]=fill\n",
    "                continue\n",
    "\n",
    "            match_zone[y,x] = matcher(window, template)\n",
    "    \n",
    "    match_zone = match_zone / match_zone.max()\n",
    "    match_results[prev_point[0]-radius:prev_point[0]+radius, prev_point[1]-radius:prev_point[1]+radius] = match_zone\n",
    "    \n",
    "    return match_results"
   ]
  },
  {
   "cell_type": "code",
   "execution_count": 6,
   "metadata": {},
   "outputs": [
    {
     "name": "stdout",
     "output_type": "stream",
     "text": [
      "Dataset Biker loaded!\n"
     ]
    },
    {
     "data": {
      "image/png": "[encoded data removed]",
      "text/plain": [
       "<Figure size 432x288 with 1 Axes>"
      ]
     },
     "metadata": {},
     "output_type": "display_data"
    },
    {
     "data": {
      "application/vnd.jupyter.widget-view+json": {
       "model_id": "504b8636e28a4fd68271ca6437765c74",
       "version_major": 2,
       "version_minor": 0
      },
      "text/plain": [
       "HBox(children=(IntProgress(value=0, description='Processing Dataset=Biker, method=sad', max=142, style=Progres…"
      ]
     },
     "metadata": {},
     "output_type": "display_data"
    },
    {
     "data": {
      "application/vnd.jupyter.widget-view+json": {
       "model_id": "2faa0c2256c14df7ad495c226cc5df1b",
       "version_major": 2,
       "version_minor": 0
      },
      "text/plain": [
       "HBox(children=(IntProgress(value=0, description='Processing Dataset=Biker, method=ssd', max=142, style=Progres…"
      ]
     },
     "metadata": {},
     "output_type": "display_data"
    },
    {
     "data": {
      "application/vnd.jupyter.widget-view+json": {
       "model_id": "cf19e868872b48cbbb03019b67027a5b",
       "version_major": 2,
       "version_minor": 0
      },
      "text/plain": [
       "HBox(children=(IntProgress(value=0, description='Processing Dataset=Biker, method=ncc', max=142, style=Progres…"
      ]
     },
     "metadata": {},
     "output_type": "display_data"
    },
    {
     "name": "stdout",
     "output_type": "stream",
     "text": [
      "Dataset football loaded!\n"
     ]
    },
    {
     "data": {
      "text/plain": [
       "<Figure size 432x288 with 0 Axes>"
      ]
     },
     "metadata": {},
     "output_type": "display_data"
    },
    {
     "data": {
      "text/plain": [
       "<Figure size 432x288 with 0 Axes>"
      ]
     },
     "metadata": {},
     "output_type": "display_data"
    },
    {
     "data": {
      "image/png": "[encoded data removed]",
      "text/plain": [
       "<Figure size 432x288 with 1 Axes>"
      ]
     },
     "metadata": {},
     "output_type": "display_data"
    },
    {
     "data": {
      "application/vnd.jupyter.widget-view+json": {
       "model_id": "abf30ee5672d4167bdd538f5ce354407",
       "version_major": 2,
       "version_minor": 0
      },
      "text/plain": [
       "HBox(children=(IntProgress(value=0, description='Processing Dataset=football, method=sad', max=362, style=Prog…"
      ]
     },
     "metadata": {},
     "output_type": "display_data"
    },
    {
     "data": {
      "application/vnd.jupyter.widget-view+json": {
       "model_id": "3e70122ba72447f4b5b56640f398c54a",
       "version_major": 2,
       "version_minor": 0
      },
      "text/plain": [
       "HBox(children=(IntProgress(value=0, description='Processing Dataset=football, method=ssd', max=362, style=Prog…"
      ]
     },
     "metadata": {},
     "output_type": "display_data"
    },
    {
     "data": {
      "application/vnd.jupyter.widget-view+json": {
       "model_id": "3ef9da9c7519485ca61e2a9108680ae6",
       "version_major": 2,
       "version_minor": 0
      },
      "text/plain": [
       "HBox(children=(IntProgress(value=0, description='Processing Dataset=football, method=ncc', max=362, style=Prog…"
      ]
     },
     "metadata": {},
     "output_type": "display_data"
    },
    {
     "name": "stdout",
     "output_type": "stream",
     "text": [
      "Dataset Coke loaded!\n"
     ]
    },
    {
     "data": {
      "text/plain": [
       "<Figure size 432x288 with 0 Axes>"
      ]
     },
     "metadata": {},
     "output_type": "display_data"
    },
    {
     "data": {
      "text/plain": [
       "<Figure size 432x288 with 0 Axes>"
      ]
     },
     "metadata": {},
     "output_type": "display_data"
    },
    {
     "data": {
      "image/png": "[encoded data removed]",
      "text/plain": [
       "<Figure size 432x288 with 1 Axes>"
      ]
     },
     "metadata": {},
     "output_type": "display_data"
    },
    {
     "data": {
      "application/vnd.jupyter.widget-view+json": {
       "model_id": "fccdd81d79d84d249a92675c1c3ff676",
       "version_major": 2,
       "version_minor": 0
      },
      "text/plain": [
       "HBox(children=(IntProgress(value=0, description='Processing Dataset=Coke, method=sad', max=291, style=Progress…"
      ]
     },
     "metadata": {},
     "output_type": "display_data"
    },
    {
     "data": {
      "application/vnd.jupyter.widget-view+json": {
       "model_id": "3a29c26666124ce48ed3ab3429e2bc4a",
       "version_major": 2,
       "version_minor": 0
      },
      "text/plain": [
       "HBox(children=(IntProgress(value=0, description='Processing Dataset=Coke, method=ssd', max=291, style=Progress…"
      ]
     },
     "metadata": {},
     "output_type": "display_data"
    },
    {
     "data": {
      "application/vnd.jupyter.widget-view+json": {
       "model_id": "cc82d06b565a4f35a9a663950d72f271",
       "version_major": 2,
       "version_minor": 0
      },
      "text/plain": [
       "HBox(children=(IntProgress(value=0, description='Processing Dataset=Coke, method=ncc', max=291, style=Progress…"
      ]
     },
     "metadata": {},
     "output_type": "display_data"
    },
    {
     "data": {
      "text/plain": [
       "<Figure size 432x288 with 0 Axes>"
      ]
     },
     "metadata": {},
     "output_type": "display_data"
    },
    {
     "data": {
      "text/plain": [
       "<Figure size 432x288 with 0 Axes>"
      ]
     },
     "metadata": {},
     "output_type": "display_data"
    },
    {
     "data": {
      "text/plain": [
       "<Figure size 432x288 with 0 Axes>"
      ]
     },
     "metadata": {},
     "output_type": "display_data"
    }
   ],
   "source": [
    "from tqdm import tqdm_notebook\n",
    "import os, os.path\n",
    "\n",
    "# dtaset list\n",
    "datasets = ['Biker', 'football', 'Coke']\n",
    "# points with template roi. I get them from dataset file\n",
    "roi_s = {\n",
    "    'football': ((300,100),(60,60)),\n",
    "    'Biker': ((262, 94), (16, 26)),\n",
    "    'Coke': ((298, 160), (48, 80)),\n",
    "}\n",
    "# methods to apply\n",
    "methods = [\"sad\", \"ssd\", \"ncc\"]\n",
    "methods_dict = {\n",
    "    \"sad\": sad,\n",
    "    \"ssd\": ssd,\n",
    "    \"ncc\": ncc,\n",
    "}\n",
    "# Radius search from previous target position\n",
    "radius_search = 30\n",
    "\n",
    "for dataset in datasets:\n",
    "    img_l = len([name for name in os.listdir(f'./datasets/{dataset}/img')])\n",
    "    images = [cv2.imread(f\"./datasets/{dataset}/img/{str(i).zfill(4)}.jpg\", 0) for i in range(1,img_l+1)]\n",
    "    print(f\"Dataset {dataset} loaded!\")\n",
    "    \n",
    "    roi = roi_s[dataset]\n",
    "    # get template image for dataset\n",
    "    template = images[0][roi[0][1]:roi[0][1]+roi[1][1], roi[0][0]:roi[0][0] + roi[1][0]]\n",
    "    t_h, t_w = template.shape\n",
    "    \n",
    "    plt.title(f\"Template for dataset {dataset}\")\n",
    "    plt.imshow(template, cmap='gray')\n",
    "    plt.show()\n",
    "    \n",
    "    for method in methods:\n",
    "        # get matcher function\n",
    "        matcher = methods_dict[method]\n",
    "        # for video saving\n",
    "        img_results = []\n",
    "        \n",
    "        # previous point. init with empty.\n",
    "        h,w = (False,False)\n",
    "        \n",
    "        for img in tqdm_notebook(images, \n",
    "                         desc=f\"Processing Dataset={dataset}, method={method}\"):\n",
    "            if (h and w):\n",
    "                # As we search by radius background point should be filled by some values.\n",
    "                if (method==\"ncc\"):\n",
    "                    # for NCC it should be ones. As in NCC case we are searching for MAX value\n",
    "                    match_result = matchTemplateToImgZone(img, template, matcher, prev_point=(h,w), radius=radius_search)\n",
    "                else:\n",
    "                    # for other it should be zeros.\n",
    "                    match_result = matchTemplateToImgZone(img, template, matcher, prev_point=(h,w), radius=radius_search, fill=1)\n",
    "\n",
    "            else:\n",
    "                # first template search\n",
    "                match_result = matchTemplateToImg(img, template, matcher)\n",
    "\n",
    "            if method == \"ncc\":\n",
    "                h,w = np.unravel_index(np.argmax(match_result, axis=None), match_result.shape)\n",
    "            else:\n",
    "                h,w = np.unravel_index(np.argmin(match_result, axis=None), match_result.shape)\n",
    "\n",
    "            img_marked = img.copy()\n",
    "            # draw a rectangle\n",
    "            cv2.rectangle(img_marked, (w,h), (w+t_w,h+t_h), 255, 3)\n",
    "            # save image to video list\n",
    "            img_results.append(img_marked)\n",
    "\n",
    "        from matplotlib import animation, rc\n",
    "        \n",
    "        # below code for video saving..\n",
    "        fig = plt.figure()\n",
    "        video_img = [[plt.imshow(img, cmap='gray')] for img in img_results]\n",
    "        plt.clf()\n",
    "        # ATTENTION: may need some changes here to work locally.\n",
    "        # for mac suer run: $ brew install ffmpeg\n",
    "        plt.rcParams['animation.ffmpeg_path'] = u'/usr/local/bin/ffmpeg'\n",
    "        ani = animation.ArtistAnimation(fig, video_img, interval=500, blit=True, repeat_delay=1000)\n",
    "        Writer = animation.writers['ffmpeg']\n",
    "        writer = Writer(fps=15, metadata=dict(artist='Me'), bitrate=1800)\n",
    "        ani.save(f\"results/template-matching/{dataset}_{method}.mp4\", writer=writer)"
   ]
  },
  {
   "cell_type": "markdown",
   "metadata": {},
   "source": [
    "From above results we can see that template matching works only when template is not transorfming on the next screens.\n",
    "\n",
    "It works only if the remplate is moving on the image by (x,y) coordinates which is not enough in some cases.\n",
    "\n",
    "Also from three methods SAD, SSD and NCC, NCC work the best because it is using not difference between pixels but normalize them which allow algorithm to match template into zones where brightness of the image is changing(the object is in the shadow for example)"
   ]
  }
 ],
 "metadata": {
  "kernelspec": {
   "display_name": "Python 3",
   "language": "python",
   "name": "python3"
  },
  "language_info": {
   "codemirror_mode": {
    "name": "ipython",
    "version": 3
   },
   "file_extension": ".py",
   "mimetype": "text/x-python",
   "name": "python",
   "nbconvert_exporter": "python",
   "pygments_lexer": "ipython3",
   "version": "3.6.8"
  }
 },
 "nbformat": 4,
 "nbformat_minor": 2
}
